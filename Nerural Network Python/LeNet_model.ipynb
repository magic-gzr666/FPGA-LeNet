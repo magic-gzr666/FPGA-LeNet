{
 "cells": [
  {
   "cell_type": "code",
   "execution_count": 1,
   "id": "7a63b2b0",
   "metadata": {},
   "outputs": [],
   "source": [
    "import torch\n",
    "import torch.nn as nn\n",
    "import torch.nn.functional as F"
   ]
  },
  {
   "cell_type": "code",
   "execution_count": 36,
   "id": "134162e3",
   "metadata": {},
   "outputs": [],
   "source": [
    "class LeNet(nn.Module):\n",
    "    def __init__(self, num_classes=10):\n",
    "        '''由于平均池化层和sigmoid层是不需要参数的，或者说在LeNet中是唯一的，因此不需要在init中定义'''\n",
    "        super(LeNet, self).__init__()\n",
    "        self.conv1 = nn.Conv2d(in_channels=1, out_channels=6, kernel_size=5)\n",
    "        self.conv2 = nn.Conv2d(in_channels=6, out_channels=16, kernel_size=5)\n",
    "        self.fc1 = nn.Linear(16 * 5 * 5, 120)\n",
    "        self.fc2 = nn.Linear(120, 84)\n",
    "        self.fc3 = nn.Linear(84, num_classes)\n",
    "        self.num_classes = num_classes\n",
    "        \n",
    "    def forward(self, x):\n",
    "        x = F.avg_pool2d(F.sigmoid(self.conv1(x)), (2, 2))\n",
    "        x = F.avg_pool2d(F.sigmoid(self.conv2(x)), (2, 2))\n",
    "        x = x.view(-1, self.num_flat_features(x))\n",
    "        x = F.sigmoid(self.fc1(x))\n",
    "        x = F.sigmoid(self.fc2(x))\n",
    "        x = F.softmax(self.fc3(x), dim=1)\n",
    " #       x = self.fc3(x)\n",
    "        return x\n",
    "    \n",
    "#     # 已经不再需要的调试代码\n",
    "#     def forward(self, x):\n",
    "#         # 输出输入尺寸\n",
    "#         print(f\"Input: {x.size()}\")\n",
    "        \n",
    "#         # Conv1\n",
    "#         x = F.max_pool2d(F.sigmoid(self.conv1(x)), (2, 2))\n",
    "#         print(f\"After conv1: {x.size()}\")\n",
    "        \n",
    "#         # Conv2\n",
    "#         x = F.max_pool2d(F.sigmoid(self.conv2(x)), (2, 2))\n",
    "#         print(f\"After conv2: {x.size()}\")\n",
    "        \n",
    "#         # Flatten\n",
    "#         x = x.view(-1, self.num_flat_features(x))\n",
    "#         print(f\"After flattening: {x.size()}\")\n",
    "        \n",
    "#         # FC1\n",
    "#         x = F.sigmoid(self.fc1(x))\n",
    "#         print(f\"After fc1: {x.size()}\")\n",
    "        \n",
    "#         # FC2\n",
    "#         x = F.sigmoid(self.fc2(x))\n",
    "#         print(f\"After fc2: {x.size()}\")\n",
    "        \n",
    "#         # FC3\n",
    "#         x = F.softmax(self.fc3(x), dim=1)\n",
    "#         print(f\"After fc3: {x.size()}\")\n",
    "        \n",
    "#         return x\n",
    "    \n",
    "    def num_flat_features(self, x):\n",
    "        size = x.size()[1:]\n",
    "        num_features = 1\n",
    "        for s in size:\n",
    "            num_features *= s\n",
    "        return num_features"
   ]
  },
  {
   "cell_type": "code",
   "execution_count": 37,
   "id": "63cd1b3c",
   "metadata": {},
   "outputs": [
    {
     "name": "stdout",
     "output_type": "stream",
     "text": [
      "LeNet(\n",
      "  (conv1): Conv2d(1, 6, kernel_size=(5, 5), stride=(1, 1))\n",
      "  (conv2): Conv2d(6, 16, kernel_size=(5, 5), stride=(1, 1))\n",
      "  (fc1): Linear(in_features=400, out_features=120, bias=True)\n",
      "  (fc2): Linear(in_features=120, out_features=84, bias=True)\n",
      "  (fc3): Linear(in_features=84, out_features=10, bias=True)\n",
      ")\n"
     ]
    }
   ],
   "source": [
    "net = LeNet()\n",
    "print(net)"
   ]
  },
  {
   "cell_type": "code",
   "execution_count": 38,
   "id": "6a1c0ff5",
   "metadata": {},
   "outputs": [
    {
     "data": {
      "text/plain": [
       "tensor([[0.0672, 0.0985, 0.1158, 0.0572, 0.1513, 0.1140, 0.0661, 0.0620, 0.1616,\n",
       "         0.1063]], grad_fn=<SoftmaxBackward0>)"
      ]
     },
     "execution_count": 38,
     "metadata": {},
     "output_type": "execute_result"
    }
   ],
   "source": [
    "# # 已经不再需要的调试代码\n",
    "# x = torch.rand(size=(1, 1, 32, 32), dtype=torch.float32)    #初始化一个1*1*28*28的torch张量对模型进行检查，查看其相应层的输出\n",
    "# net(x)"
   ]
  },
  {
   "cell_type": "code",
   "execution_count": 39,
   "id": "a1ac12a2",
   "metadata": {},
   "outputs": [],
   "source": [
    "# 已经不再需要的调试代码\n",
    "#     def forward(self, x):\n",
    "#         # 输出输入尺寸\n",
    "#         print(f\"Input: {x.size()}\")\n",
    "        \n",
    "#         # Conv1\n",
    "#         x = F.max_pool2d(F.sigmoid(self.conv1(x)), (2, 2))\n",
    "#         print(f\"After conv1: {x.size()}\")\n",
    "        \n",
    "#         # Conv2\n",
    "#         x = F.max_pool2d(F.sigmoid(self.conv2(x)), (2, 2))\n",
    "#         print(f\"After conv2: {x.size()}\")\n",
    "        \n",
    "#         # Flatten\n",
    "#         x = x.view(-1, self.num_flat_features(x))\n",
    "#         print(f\"After flattening: {x.size()}\")\n",
    "        \n",
    "#         # FC1\n",
    "#         x = F.sigmoid(self.fc1(x))\n",
    "#         print(f\"After fc1: {x.size()}\")\n",
    "        \n",
    "#         # FC2\n",
    "#         x = F.sigmoid(self.fc2(x))\n",
    "#         print(f\"After fc2: {x.size()}\")\n",
    "        \n",
    "#         # FC3\n",
    "#         x = F.softmax(self.fc3(x), dim=1)\n",
    "#         print(f\"After fc3: {x.size()}\")\n",
    "        \n",
    "#         return x"
   ]
  },
  {
   "cell_type": "code",
   "execution_count": null,
   "id": "4f99ea6c",
   "metadata": {},
   "outputs": [],
   "source": []
  }
 ],
 "metadata": {
  "kernelspec": {
   "display_name": "Python 3 (ipykernel)",
   "language": "python",
   "name": "python3"
  },
  "language_info": {
   "codemirror_mode": {
    "name": "ipython",
    "version": 3
   },
   "file_extension": ".py",
   "mimetype": "text/x-python",
   "name": "python",
   "nbconvert_exporter": "python",
   "pygments_lexer": "ipython3",
   "version": "3.11.5"
  }
 },
 "nbformat": 4,
 "nbformat_minor": 5
}
